{
 "cells": [
  {
   "cell_type": "code",
   "execution_count": 1,
   "metadata": {},
   "outputs": [
    {
     "name": "stdout",
     "output_type": "stream",
     "text": [
      "Collecting Image\n",
      "  Downloading image-1.5.19-py2.py3-none-any.whl\n",
      "Collecting django (from Image)\n",
      "  Downloading Django-2.0.3-py3-none-any.whl (7.1MB)\n",
      "\u001b[K    100% |████████████████████████████████| 7.1MB 112kB/s ta 0:00:011\n",
      "\u001b[?25hRequirement already satisfied: pillow in /Users/sharonyan/anaconda/lib/python3.6/site-packages (from Image)\n",
      "Requirement already satisfied: pytz in /Users/sharonyan/anaconda/lib/python3.6/site-packages (from django->Image)\n",
      "Requirement already satisfied: olefile in /Users/sharonyan/anaconda/lib/python3.6/site-packages (from pillow->Image)\n",
      "Installing collected packages: django, Image\n",
      "Successfully installed Image-1.5.19 django-2.0.3\n"
     ]
    }
   ],
   "source": [
    "!pip install Image"
   ]
  },
  {
   "cell_type": "code",
   "execution_count": null,
   "metadata": {
    "collapsed": true
   },
   "outputs": [],
   "source": []
  }
 ],
 "metadata": {
  "kernelspec": {
   "display_name": "Python 3",
   "language": "python",
   "name": "python3"
  },
  "language_info": {
   "codemirror_mode": {
    "name": "ipython",
    "version": 3
   },
   "file_extension": ".py",
   "mimetype": "text/x-python",
   "name": "python",
   "nbconvert_exporter": "python",
   "pygments_lexer": "ipython3",
   "version": "3.6.1"
  }
 },
 "nbformat": 4,
 "nbformat_minor": 2
}
